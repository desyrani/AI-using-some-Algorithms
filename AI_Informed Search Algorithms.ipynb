{
 "cells": [
  {
   "cell_type": "markdown",
   "id": "218ebd17",
   "metadata": {},
   "source": [
    "# 2. INFORMED SEARCH"
   ]
  },
  {
   "cell_type": "markdown",
   "id": "d8e78721",
   "metadata": {},
   "source": [
    "## 2.1 Best-first Search Algorithm (BFS/Greedy Search)\n",
    "\n",
    "Greedy best-first search uses the properties of both depth-first search and breadth-first search. Greedy best-first search traverses the node by selecting the path which appears best at the moment. The closest path is selected by using the heuristic function."
   ]
  },
  {
   "cell_type": "code",
   "execution_count": 2,
   "id": "832b2383",
   "metadata": {},
   "outputs": [
    {
     "name": "stdout",
     "output_type": "stream",
     "text": [
      "A\n",
      "C\n",
      "G\n",
      "H\n"
     ]
    }
   ],
   "source": [
    "graph = {\n",
    "'A':[('B',12), ('C',4)],\n",
    "'B':[('D',7), ('E',3)],\n",
    "'C':[('F',8), ('G',2)],\n",
    "'D':[],\n",
    "'E':[('H',0)],\n",
    "'F':[('H',0)],\n",
    "'G':[('H',0)]\n",
    "}\n",
    "def bfs(start, target, graph, queue=[], visited=[]):\n",
    "    if start not in visited:\n",
    "        print(start)\n",
    "        visited.append(start)\n",
    "    queue=queue+[x for x in graph[start] if x[0][0] not in visited]\n",
    "    queue.sort(key=lambda x:x[1])\n",
    "    if queue[0][0]==target:\n",
    "        print(queue[0][0])\n",
    "    else:\n",
    "        processing=queue[0]\n",
    "        queue.remove(processing)\n",
    "        bfs(processing[0], target, graph, queue, visited)\n",
    "bfs('A', 'H', graph)"
   ]
  },
  {
   "cell_type": "markdown",
   "id": "347df591",
   "metadata": {},
   "source": [
    "# 2.2 A* Search Algorithm\n",
    "\n",
    "A* search algorithm is a combination of both uniform cost search and greedy best-first search algorithms. It uses the advantages of both with better memory usage. It uses a heuristic function to find the shortest path. A* search algorithm uses the sum of both the cost and heuristic of the node to find the best path."
   ]
  },
  {
   "cell_type": "code",
   "execution_count": 3,
   "id": "46ad961e",
   "metadata": {},
   "outputs": [
    {
     "name": "stdout",
     "output_type": "stream",
     "text": [
      "Enter the Start Node: D\n",
      "Enter the Goal Node : H\n",
      "Path with least cost is :  D-> H\n"
     ]
    }
   ],
   "source": [
    "graph=[['A','B',1,3],\n",
    "       ['A','C',2,4],\n",
    "       ['A','H',7,0],\n",
    "       ['B','D',4,2],\n",
    "       ['B','E',6,6],\n",
    "       ['C','F',3,3],\n",
    "       ['C','G',2,1],\n",
    "       ['D','E',7,6],\n",
    "       ['D','H',5,0],\n",
    "       ['F','H',1,0],\n",
    "       ['G','H',2, 0]]\n",
    "temp = []\n",
    "temp1 = []\n",
    "for i in graph:\n",
    "    temp.append(i[0])\n",
    "    temp1.append(i[1])\n",
    "nodes = set(temp).union(set(temp1))\n",
    "def A_star(graph, costs, open, closed, cur_node):\n",
    "    if cur_node in open:\n",
    "        open.remove(cur_node)\n",
    "    closed.add(cur_node)\n",
    "    for i in graph:\n",
    "        if(i[0] == cur_node and costs[i[0]]+i[2]+i[3] < costs[i[1]]):\n",
    "            open.add(i[1])\n",
    "            costs[i[1]] = costs [i[1]]+i[2]+i[3]\n",
    "            path[i[1]] = path[i[0]] + '-> ' + i[1]\n",
    "    costs[cur_node] = 999999\n",
    "    small = min(costs, key=costs.get)\n",
    "    if small not in closed:\n",
    "        A_star(graph, costs, open, closed, small)\n",
    "costs = dict()\n",
    "temp_cost = dict ()\n",
    "path = dict()\n",
    "for i in nodes:\n",
    "    costs[i] = 999999\n",
    "    path[i] = '  '\n",
    "open = set()\n",
    "closed = set()\n",
    "start_node = input(\"Enter the Start Node: \")\n",
    "open.add(start_node)\n",
    "path[start_node] = start_node\n",
    "costs[start_node] = 0\n",
    "A_star(graph, costs, open, closed, start_node)\n",
    "goal_node = input(\"Enter the Goal Node : \")\n",
    "print (\"Path with least cost is : \",path[goal_node])"
   ]
  }
 ],
 "metadata": {
  "kernelspec": {
   "display_name": "Python 3 (ipykernel)",
   "language": "python",
   "name": "python3"
  },
  "language_info": {
   "codemirror_mode": {
    "name": "ipython",
    "version": 3
   },
   "file_extension": ".py",
   "mimetype": "text/x-python",
   "name": "python",
   "nbconvert_exporter": "python",
   "pygments_lexer": "ipython3",
   "version": "3.9.13"
  }
 },
 "nbformat": 4,
 "nbformat_minor": 5
}
