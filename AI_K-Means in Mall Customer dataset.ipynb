{
 "cells": [
  {
   "cell_type": "markdown",
   "id": "d030b89e",
   "metadata": {},
   "source": [
    "# Artificial Intelligence"
   ]
  },
  {
   "cell_type": "markdown",
   "id": "ddcffbb4",
   "metadata": {},
   "source": [
    "## 1. Data pre-processing Step"
   ]
  },
  {
   "cell_type": "markdown",
   "id": "8803477d",
   "metadata": {},
   "source": [
    "### Importing Libraries"
   ]
  },
  {
   "cell_type": "code",
   "execution_count": null,
   "id": "5b66c1bd",
   "metadata": {},
   "outputs": [],
   "source": [
    "pip install numpy==1.21.4"
   ]
  },
  {
   "cell_type": "code",
   "execution_count": null,
   "id": "c53c2678",
   "metadata": {},
   "outputs": [],
   "source": [
    "pip install threadpoolctl==3.1.0"
   ]
  },
  {
   "cell_type": "code",
   "execution_count": null,
   "id": "e8eda57d",
   "metadata": {},
   "outputs": [],
   "source": [
    "import numpy as np\n",
    "import matplotlib.pyplot as plt\n",
    "import pandas as pd"
   ]
  },
  {
   "cell_type": "code",
   "execution_count": 47,
   "id": "ba4e76b6",
   "metadata": {},
   "outputs": [],
   "source": [
    "data = pd.read_csv('Mall_Customers.csv')"
   ]
  },
  {
   "cell_type": "code",
   "execution_count": 48,
   "id": "da3e4d75",
   "metadata": {},
   "outputs": [
    {
     "data": {
      "text/html": [
       "<div>\n",
       "<style scoped>\n",
       "    .dataframe tbody tr th:only-of-type {\n",
       "        vertical-align: middle;\n",
       "    }\n",
       "\n",
       "    .dataframe tbody tr th {\n",
       "        vertical-align: top;\n",
       "    }\n",
       "\n",
       "    .dataframe thead th {\n",
       "        text-align: right;\n",
       "    }\n",
       "</style>\n",
       "<table border=\"1\" class=\"dataframe\">\n",
       "  <thead>\n",
       "    <tr style=\"text-align: right;\">\n",
       "      <th></th>\n",
       "      <th>CustomerID</th>\n",
       "      <th>Genre</th>\n",
       "      <th>Age</th>\n",
       "      <th>Annual Income (k$)</th>\n",
       "      <th>Spending Score (1-100)</th>\n",
       "    </tr>\n",
       "  </thead>\n",
       "  <tbody>\n",
       "    <tr>\n",
       "      <th>0</th>\n",
       "      <td>1</td>\n",
       "      <td>Male</td>\n",
       "      <td>19</td>\n",
       "      <td>15.0</td>\n",
       "      <td>39</td>\n",
       "    </tr>\n",
       "    <tr>\n",
       "      <th>1</th>\n",
       "      <td>2</td>\n",
       "      <td>Male</td>\n",
       "      <td>21</td>\n",
       "      <td>15.0</td>\n",
       "      <td>81</td>\n",
       "    </tr>\n",
       "    <tr>\n",
       "      <th>2</th>\n",
       "      <td>3</td>\n",
       "      <td>Female</td>\n",
       "      <td>20</td>\n",
       "      <td>16.0</td>\n",
       "      <td>6</td>\n",
       "    </tr>\n",
       "    <tr>\n",
       "      <th>3</th>\n",
       "      <td>4</td>\n",
       "      <td>Female</td>\n",
       "      <td>23</td>\n",
       "      <td>16.0</td>\n",
       "      <td>77</td>\n",
       "    </tr>\n",
       "    <tr>\n",
       "      <th>4</th>\n",
       "      <td>5</td>\n",
       "      <td>Female</td>\n",
       "      <td>31</td>\n",
       "      <td>17.0</td>\n",
       "      <td>40</td>\n",
       "    </tr>\n",
       "  </tbody>\n",
       "</table>\n",
       "</div>"
      ],
      "text/plain": [
       "   CustomerID   Genre  Age  Annual Income (k$)  Spending Score (1-100)\n",
       "0           1    Male   19                15.0                      39\n",
       "1           2    Male   21                15.0                      81\n",
       "2           3  Female   20                16.0                       6\n",
       "3           4  Female   23                16.0                      77\n",
       "4           5  Female   31                17.0                      40"
      ]
     },
     "execution_count": 48,
     "metadata": {},
     "output_type": "execute_result"
    }
   ],
   "source": [
    "data.head()"
   ]
  },
  {
   "cell_type": "code",
   "execution_count": 49,
   "id": "c627ae16",
   "metadata": {},
   "outputs": [
    {
     "data": {
      "text/plain": [
       "(200, 5)"
      ]
     },
     "execution_count": 49,
     "metadata": {},
     "output_type": "execute_result"
    }
   ],
   "source": [
    "data.shape"
   ]
  },
  {
   "cell_type": "code",
   "execution_count": 50,
   "id": "e047beed",
   "metadata": {},
   "outputs": [
    {
     "data": {
      "text/html": [
       "<div>\n",
       "<style scoped>\n",
       "    .dataframe tbody tr th:only-of-type {\n",
       "        vertical-align: middle;\n",
       "    }\n",
       "\n",
       "    .dataframe tbody tr th {\n",
       "        vertical-align: top;\n",
       "    }\n",
       "\n",
       "    .dataframe thead th {\n",
       "        text-align: right;\n",
       "    }\n",
       "</style>\n",
       "<table border=\"1\" class=\"dataframe\">\n",
       "  <thead>\n",
       "    <tr style=\"text-align: right;\">\n",
       "      <th></th>\n",
       "      <th>CustomerID</th>\n",
       "      <th>Age</th>\n",
       "      <th>Annual Income (k$)</th>\n",
       "      <th>Spending Score (1-100)</th>\n",
       "    </tr>\n",
       "  </thead>\n",
       "  <tbody>\n",
       "    <tr>\n",
       "      <th>count</th>\n",
       "      <td>200.000000</td>\n",
       "      <td>200.000000</td>\n",
       "      <td>192.000000</td>\n",
       "      <td>200.000000</td>\n",
       "    </tr>\n",
       "    <tr>\n",
       "      <th>mean</th>\n",
       "      <td>100.500000</td>\n",
       "      <td>38.850000</td>\n",
       "      <td>59.848958</td>\n",
       "      <td>50.200000</td>\n",
       "    </tr>\n",
       "    <tr>\n",
       "      <th>std</th>\n",
       "      <td>57.879185</td>\n",
       "      <td>13.969007</td>\n",
       "      <td>26.538781</td>\n",
       "      <td>25.823522</td>\n",
       "    </tr>\n",
       "    <tr>\n",
       "      <th>min</th>\n",
       "      <td>1.000000</td>\n",
       "      <td>18.000000</td>\n",
       "      <td>15.000000</td>\n",
       "      <td>1.000000</td>\n",
       "    </tr>\n",
       "    <tr>\n",
       "      <th>25%</th>\n",
       "      <td>50.750000</td>\n",
       "      <td>28.750000</td>\n",
       "      <td>40.000000</td>\n",
       "      <td>34.750000</td>\n",
       "    </tr>\n",
       "    <tr>\n",
       "      <th>50%</th>\n",
       "      <td>100.500000</td>\n",
       "      <td>36.000000</td>\n",
       "      <td>60.000000</td>\n",
       "      <td>50.000000</td>\n",
       "    </tr>\n",
       "    <tr>\n",
       "      <th>75%</th>\n",
       "      <td>150.250000</td>\n",
       "      <td>49.000000</td>\n",
       "      <td>77.250000</td>\n",
       "      <td>73.000000</td>\n",
       "    </tr>\n",
       "    <tr>\n",
       "      <th>max</th>\n",
       "      <td>200.000000</td>\n",
       "      <td>70.000000</td>\n",
       "      <td>137.000000</td>\n",
       "      <td>99.000000</td>\n",
       "    </tr>\n",
       "  </tbody>\n",
       "</table>\n",
       "</div>"
      ],
      "text/plain": [
       "       CustomerID         Age  Annual Income (k$)  Spending Score (1-100)\n",
       "count  200.000000  200.000000          192.000000              200.000000\n",
       "mean   100.500000   38.850000           59.848958               50.200000\n",
       "std     57.879185   13.969007           26.538781               25.823522\n",
       "min      1.000000   18.000000           15.000000                1.000000\n",
       "25%     50.750000   28.750000           40.000000               34.750000\n",
       "50%    100.500000   36.000000           60.000000               50.000000\n",
       "75%    150.250000   49.000000           77.250000               73.000000\n",
       "max    200.000000   70.000000          137.000000               99.000000"
      ]
     },
     "execution_count": 50,
     "metadata": {},
     "output_type": "execute_result"
    }
   ],
   "source": [
    "data.describe()"
   ]
  },
  {
   "cell_type": "code",
   "execution_count": 51,
   "id": "13848a94",
   "metadata": {},
   "outputs": [
    {
     "name": "stdout",
     "output_type": "stream",
     "text": [
      "<class 'pandas.core.frame.DataFrame'>\n",
      "RangeIndex: 200 entries, 0 to 199\n",
      "Data columns (total 5 columns):\n",
      " #   Column                  Non-Null Count  Dtype  \n",
      "---  ------                  --------------  -----  \n",
      " 0   CustomerID              200 non-null    int64  \n",
      " 1   Genre                   200 non-null    object \n",
      " 2   Age                     200 non-null    int64  \n",
      " 3   Annual Income (k$)      192 non-null    float64\n",
      " 4   Spending Score (1-100)  200 non-null    int64  \n",
      "dtypes: float64(1), int64(3), object(1)\n",
      "memory usage: 7.9+ KB\n"
     ]
    }
   ],
   "source": [
    "data.info()"
   ]
  },
  {
   "cell_type": "code",
   "execution_count": 52,
   "id": "4997fa17",
   "metadata": {},
   "outputs": [
    {
     "data": {
      "text/html": [
       "<div>\n",
       "<style scoped>\n",
       "    .dataframe tbody tr th:only-of-type {\n",
       "        vertical-align: middle;\n",
       "    }\n",
       "\n",
       "    .dataframe tbody tr th {\n",
       "        vertical-align: top;\n",
       "    }\n",
       "\n",
       "    .dataframe thead th {\n",
       "        text-align: right;\n",
       "    }\n",
       "</style>\n",
       "<table border=\"1\" class=\"dataframe\">\n",
       "  <thead>\n",
       "    <tr style=\"text-align: right;\">\n",
       "      <th></th>\n",
       "      <th>CustomerID</th>\n",
       "      <th>Genre</th>\n",
       "      <th>Age</th>\n",
       "      <th>Annual Income (k$)</th>\n",
       "      <th>Spending Score (1-100)</th>\n",
       "    </tr>\n",
       "  </thead>\n",
       "  <tbody>\n",
       "    <tr>\n",
       "      <th>0</th>\n",
       "      <td>1</td>\n",
       "      <td>Male</td>\n",
       "      <td>19</td>\n",
       "      <td>15.0</td>\n",
       "      <td>39</td>\n",
       "    </tr>\n",
       "    <tr>\n",
       "      <th>1</th>\n",
       "      <td>2</td>\n",
       "      <td>Male</td>\n",
       "      <td>21</td>\n",
       "      <td>15.0</td>\n",
       "      <td>81</td>\n",
       "    </tr>\n",
       "    <tr>\n",
       "      <th>2</th>\n",
       "      <td>3</td>\n",
       "      <td>Female</td>\n",
       "      <td>20</td>\n",
       "      <td>16.0</td>\n",
       "      <td>6</td>\n",
       "    </tr>\n",
       "    <tr>\n",
       "      <th>3</th>\n",
       "      <td>4</td>\n",
       "      <td>Female</td>\n",
       "      <td>23</td>\n",
       "      <td>16.0</td>\n",
       "      <td>77</td>\n",
       "    </tr>\n",
       "    <tr>\n",
       "      <th>4</th>\n",
       "      <td>5</td>\n",
       "      <td>Female</td>\n",
       "      <td>31</td>\n",
       "      <td>17.0</td>\n",
       "      <td>40</td>\n",
       "    </tr>\n",
       "    <tr>\n",
       "      <th>...</th>\n",
       "      <td>...</td>\n",
       "      <td>...</td>\n",
       "      <td>...</td>\n",
       "      <td>...</td>\n",
       "      <td>...</td>\n",
       "    </tr>\n",
       "    <tr>\n",
       "      <th>195</th>\n",
       "      <td>196</td>\n",
       "      <td>Female</td>\n",
       "      <td>35</td>\n",
       "      <td>120.0</td>\n",
       "      <td>79</td>\n",
       "    </tr>\n",
       "    <tr>\n",
       "      <th>196</th>\n",
       "      <td>197</td>\n",
       "      <td>Female</td>\n",
       "      <td>45</td>\n",
       "      <td>126.0</td>\n",
       "      <td>28</td>\n",
       "    </tr>\n",
       "    <tr>\n",
       "      <th>197</th>\n",
       "      <td>198</td>\n",
       "      <td>Male</td>\n",
       "      <td>32</td>\n",
       "      <td>126.0</td>\n",
       "      <td>74</td>\n",
       "    </tr>\n",
       "    <tr>\n",
       "      <th>198</th>\n",
       "      <td>199</td>\n",
       "      <td>Male</td>\n",
       "      <td>32</td>\n",
       "      <td>137.0</td>\n",
       "      <td>18</td>\n",
       "    </tr>\n",
       "    <tr>\n",
       "      <th>199</th>\n",
       "      <td>200</td>\n",
       "      <td>Male</td>\n",
       "      <td>30</td>\n",
       "      <td>137.0</td>\n",
       "      <td>83</td>\n",
       "    </tr>\n",
       "  </tbody>\n",
       "</table>\n",
       "<p>200 rows × 5 columns</p>\n",
       "</div>"
      ],
      "text/plain": [
       "     CustomerID   Genre  Age  Annual Income (k$)  Spending Score (1-100)\n",
       "0             1    Male   19                15.0                      39\n",
       "1             2    Male   21                15.0                      81\n",
       "2             3  Female   20                16.0                       6\n",
       "3             4  Female   23                16.0                      77\n",
       "4             5  Female   31                17.0                      40\n",
       "..          ...     ...  ...                 ...                     ...\n",
       "195         196  Female   35               120.0                      79\n",
       "196         197  Female   45               126.0                      28\n",
       "197         198    Male   32               126.0                      74\n",
       "198         199    Male   32               137.0                      18\n",
       "199         200    Male   30               137.0                      83\n",
       "\n",
       "[200 rows x 5 columns]"
      ]
     },
     "execution_count": 52,
     "metadata": {},
     "output_type": "execute_result"
    }
   ],
   "source": [
    "data"
   ]
  },
  {
   "cell_type": "code",
   "execution_count": 53,
   "id": "2f3e562f",
   "metadata": {},
   "outputs": [],
   "source": [
    "income = data['Annual Income (k$)']"
   ]
  },
  {
   "cell_type": "code",
   "execution_count": 54,
   "id": "2359ebe0",
   "metadata": {},
   "outputs": [
    {
     "data": {
      "text/plain": [
       "59.848958333333336"
      ]
     },
     "execution_count": 54,
     "metadata": {},
     "output_type": "execute_result"
    }
   ],
   "source": [
    "income_mean = income.mean()\n",
    "income_mean"
   ]
  },
  {
   "cell_type": "code",
   "execution_count": 55,
   "id": "86aa81fc",
   "metadata": {},
   "outputs": [],
   "source": [
    "income.fillna(income_mean, inplace=True)"
   ]
  },
  {
   "cell_type": "code",
   "execution_count": 56,
   "id": "8e759126",
   "metadata": {},
   "outputs": [
    {
     "data": {
      "text/plain": [
       "CustomerID                0\n",
       "Genre                     0\n",
       "Age                       0\n",
       "Annual Income (k$)        0\n",
       "Spending Score (1-100)    0\n",
       "dtype: int64"
      ]
     },
     "execution_count": 56,
     "metadata": {},
     "output_type": "execute_result"
    }
   ],
   "source": [
    "data.isnull().sum()"
   ]
  },
  {
   "cell_type": "markdown",
   "id": "e854e395",
   "metadata": {},
   "source": [
    "### Extracting Independent Variables"
   ]
  },
  {
   "cell_type": "code",
   "execution_count": 57,
   "id": "61168923",
   "metadata": {},
   "outputs": [],
   "source": [
    "x = data.iloc[:, [3, 4]].values"
   ]
  },
  {
   "cell_type": "code",
   "execution_count": 58,
   "id": "9ba08092",
   "metadata": {},
   "outputs": [
    {
     "data": {
      "text/plain": [
       "array([[ 15.        ,  39.        ],\n",
       "       [ 15.        ,  81.        ],\n",
       "       [ 16.        ,   6.        ],\n",
       "       [ 16.        ,  77.        ],\n",
       "       [ 17.        ,  40.        ],\n",
       "       [ 17.        ,  76.        ],\n",
       "       [ 18.        ,   6.        ],\n",
       "       [ 18.        ,  94.        ],\n",
       "       [ 19.        ,   3.        ],\n",
       "       [ 19.        ,  72.        ],\n",
       "       [ 19.        ,  14.        ],\n",
       "       [ 19.        ,  99.        ],\n",
       "       [ 20.        ,  15.        ],\n",
       "       [ 20.        ,  77.        ],\n",
       "       [ 20.        ,  13.        ],\n",
       "       [ 20.        ,  79.        ],\n",
       "       [ 21.        ,  35.        ],\n",
       "       [ 21.        ,  66.        ],\n",
       "       [ 23.        ,  29.        ],\n",
       "       [ 23.        ,  98.        ],\n",
       "       [ 24.        ,  35.        ],\n",
       "       [ 24.        ,  73.        ],\n",
       "       [ 25.        ,   5.        ],\n",
       "       [ 25.        ,  73.        ],\n",
       "       [ 28.        ,  14.        ],\n",
       "       [ 28.        ,  82.        ],\n",
       "       [ 28.        ,  32.        ],\n",
       "       [ 28.        ,  61.        ],\n",
       "       [ 29.        ,  31.        ],\n",
       "       [ 29.        ,  87.        ],\n",
       "       [ 30.        ,   4.        ],\n",
       "       [ 30.        ,  73.        ],\n",
       "       [ 33.        ,   4.        ],\n",
       "       [ 33.        ,  92.        ],\n",
       "       [ 33.        ,  14.        ],\n",
       "       [ 33.        ,  81.        ],\n",
       "       [ 34.        ,  17.        ],\n",
       "       [ 34.        ,  73.        ],\n",
       "       [ 37.        ,  26.        ],\n",
       "       [ 37.        ,  75.        ],\n",
       "       [ 38.        ,  35.        ],\n",
       "       [ 38.        ,  92.        ],\n",
       "       [ 39.        ,  36.        ],\n",
       "       [ 39.        ,  61.        ],\n",
       "       [ 39.        ,  28.        ],\n",
       "       [ 39.        ,  65.        ],\n",
       "       [ 40.        ,  55.        ],\n",
       "       [ 40.        ,  47.        ],\n",
       "       [ 40.        ,  42.        ],\n",
       "       [ 40.        ,  42.        ],\n",
       "       [ 42.        ,  52.        ],\n",
       "       [ 42.        ,  60.        ],\n",
       "       [ 43.        ,  54.        ],\n",
       "       [ 43.        ,  60.        ],\n",
       "       [ 43.        ,  45.        ],\n",
       "       [ 43.        ,  41.        ],\n",
       "       [ 44.        ,  50.        ],\n",
       "       [ 44.        ,  46.        ],\n",
       "       [ 46.        ,  51.        ],\n",
       "       [ 46.        ,  46.        ],\n",
       "       [ 46.        ,  56.        ],\n",
       "       [ 46.        ,  55.        ],\n",
       "       [ 47.        ,  52.        ],\n",
       "       [ 47.        ,  59.        ],\n",
       "       [ 48.        ,  51.        ],\n",
       "       [ 48.        ,  59.        ],\n",
       "       [ 48.        ,  50.        ],\n",
       "       [ 48.        ,  48.        ],\n",
       "       [ 48.        ,  59.        ],\n",
       "       [ 48.        ,  47.        ],\n",
       "       [ 49.        ,  55.        ],\n",
       "       [ 49.        ,  42.        ],\n",
       "       [ 50.        ,  49.        ],\n",
       "       [ 50.        ,  56.        ],\n",
       "       [ 54.        ,  47.        ],\n",
       "       [ 54.        ,  54.        ],\n",
       "       [ 54.        ,  53.        ],\n",
       "       [ 54.        ,  48.        ],\n",
       "       [ 54.        ,  52.        ],\n",
       "       [ 54.        ,  42.        ],\n",
       "       [ 54.        ,  51.        ],\n",
       "       [ 54.        ,  55.        ],\n",
       "       [ 54.        ,  41.        ],\n",
       "       [ 54.        ,  44.        ],\n",
       "       [ 54.        ,  57.        ],\n",
       "       [ 54.        ,  46.        ],\n",
       "       [ 57.        ,  58.        ],\n",
       "       [ 57.        ,  55.        ],\n",
       "       [ 58.        ,  60.        ],\n",
       "       [ 58.        ,  46.        ],\n",
       "       [ 59.        ,  55.        ],\n",
       "       [ 59.        ,  41.        ],\n",
       "       [ 60.        ,  49.        ],\n",
       "       [ 60.        ,  40.        ],\n",
       "       [ 60.        ,  42.        ],\n",
       "       [ 60.        ,  52.        ],\n",
       "       [ 60.        ,  47.        ],\n",
       "       [ 60.        ,  50.        ],\n",
       "       [ 61.        ,  42.        ],\n",
       "       [ 61.        ,  49.        ],\n",
       "       [ 62.        ,  41.        ],\n",
       "       [ 62.        ,  48.        ],\n",
       "       [ 62.        ,  59.        ],\n",
       "       [ 62.        ,  55.        ],\n",
       "       [ 62.        ,  56.        ],\n",
       "       [ 62.        ,  42.        ],\n",
       "       [ 63.        ,  50.        ],\n",
       "       [ 63.        ,  46.        ],\n",
       "       [ 63.        ,  43.        ],\n",
       "       [ 63.        ,  48.        ],\n",
       "       [ 63.        ,  52.        ],\n",
       "       [ 63.        ,  54.        ],\n",
       "       [ 64.        ,  42.        ],\n",
       "       [ 64.        ,  46.        ],\n",
       "       [ 65.        ,  48.        ],\n",
       "       [ 65.        ,  50.        ],\n",
       "       [ 65.        ,  43.        ],\n",
       "       [ 65.        ,  59.        ],\n",
       "       [ 67.        ,  43.        ],\n",
       "       [ 67.        ,  57.        ],\n",
       "       [ 67.        ,  56.        ],\n",
       "       [ 67.        ,  40.        ],\n",
       "       [ 69.        ,  58.        ],\n",
       "       [ 69.        ,  91.        ],\n",
       "       [ 70.        ,  29.        ],\n",
       "       [ 70.        ,  77.        ],\n",
       "       [ 71.        ,  35.        ],\n",
       "       [ 59.84895833,  95.        ],\n",
       "       [ 59.84895833,  11.        ],\n",
       "       [ 59.84895833,  75.        ],\n",
       "       [ 71.        ,   9.        ],\n",
       "       [ 71.        ,  75.        ],\n",
       "       [ 72.        ,  34.        ],\n",
       "       [ 72.        ,  71.        ],\n",
       "       [ 73.        ,   5.        ],\n",
       "       [ 73.        ,  88.        ],\n",
       "       [ 73.        ,   7.        ],\n",
       "       [ 73.        ,  73.        ],\n",
       "       [ 74.        ,  10.        ],\n",
       "       [ 74.        ,  72.        ],\n",
       "       [ 75.        ,   5.        ],\n",
       "       [ 75.        ,  93.        ],\n",
       "       [ 76.        ,  40.        ],\n",
       "       [ 76.        ,  87.        ],\n",
       "       [ 77.        ,  12.        ],\n",
       "       [ 77.        ,  97.        ],\n",
       "       [ 59.84895833,  36.        ],\n",
       "       [ 77.        ,  74.        ],\n",
       "       [ 78.        ,  22.        ],\n",
       "       [ 78.        ,  90.        ],\n",
       "       [ 78.        ,  17.        ],\n",
       "       [ 78.        ,  88.        ],\n",
       "       [ 78.        ,  20.        ],\n",
       "       [ 78.        ,  76.        ],\n",
       "       [ 78.        ,  16.        ],\n",
       "       [ 78.        ,  89.        ],\n",
       "       [ 59.84895833,   1.        ],\n",
       "       [ 59.84895833,  78.        ],\n",
       "       [ 78.        ,   1.        ],\n",
       "       [ 78.        ,  73.        ],\n",
       "       [ 79.        ,  35.        ],\n",
       "       [ 79.        ,  83.        ],\n",
       "       [ 81.        ,   5.        ],\n",
       "       [ 81.        ,  93.        ],\n",
       "       [ 85.        ,  26.        ],\n",
       "       [ 85.        ,  75.        ],\n",
       "       [ 86.        ,  20.        ],\n",
       "       [ 86.        ,  95.        ],\n",
       "       [ 87.        ,  27.        ],\n",
       "       [ 59.84895833,  63.        ],\n",
       "       [ 87.        ,  13.        ],\n",
       "       [ 87.        ,  75.        ],\n",
       "       [ 87.        ,  10.        ],\n",
       "       [ 87.        ,  92.        ],\n",
       "       [ 88.        ,  13.        ],\n",
       "       [ 88.        ,  86.        ],\n",
       "       [ 59.84895833,  15.        ],\n",
       "       [ 88.        ,  69.        ],\n",
       "       [ 93.        ,  14.        ],\n",
       "       [ 93.        ,  90.        ],\n",
       "       [ 97.        ,  32.        ],\n",
       "       [ 97.        ,  86.        ],\n",
       "       [ 98.        ,  15.        ],\n",
       "       [ 98.        ,  88.        ],\n",
       "       [ 99.        ,  39.        ],\n",
       "       [ 99.        ,  97.        ],\n",
       "       [101.        ,  24.        ],\n",
       "       [101.        ,  68.        ],\n",
       "       [103.        ,  17.        ],\n",
       "       [103.        ,  85.        ],\n",
       "       [103.        ,  23.        ],\n",
       "       [103.        ,  69.        ],\n",
       "       [113.        ,   8.        ],\n",
       "       [113.        ,  91.        ],\n",
       "       [120.        ,  16.        ],\n",
       "       [120.        ,  79.        ],\n",
       "       [126.        ,  28.        ],\n",
       "       [126.        ,  74.        ],\n",
       "       [137.        ,  18.        ],\n",
       "       [137.        ,  83.        ]])"
      ]
     },
     "execution_count": 58,
     "metadata": {},
     "output_type": "execute_result"
    }
   ],
   "source": [
    "x"
   ]
  },
  {
   "cell_type": "markdown",
   "id": "a28366e2",
   "metadata": {},
   "source": [
    "## 2. Finding the optimal number of clusters using the elbow method"
   ]
  },
  {
   "cell_type": "code",
   "execution_count": 64,
   "id": "edabb94d",
   "metadata": {},
   "outputs": [
    {
     "data": {
      "image/png": "[encoded data removed]",
      "text/plain": [
       "<Figure size 640x480 with 1 Axes>"
      ]
     },
     "metadata": {},
     "output_type": "display_data"
    }
   ],
   "source": [
    "#finding optimal number of clusters using the elbow method\n",
    "from sklearn.cluster import KMeans\n",
    "wcss_list= [] #Initializing the list for the values of WCSS\n",
    "\n",
    "#Using for loop for iterations from 2 to 9.\n",
    "for i in range(2, 10):\n",
    "    kmeans = KMeans(n_clusters=i, init='k-means++', random_state= 42)\n",
    "    kmeans.fit(x)\n",
    "    wcss_list.append(kmeans.inertia_)\n",
    "plt.plot(range(2, 10), wcss_list)\n",
    "plt.title('The Elobw Method Graph')\n",
    "plt.xlabel('Number of clusters(k)')\n",
    "plt.ylabel('wcss_list')\n",
    "plt.show()"
   ]
  },
  {
   "cell_type": "code",
   "execution_count": 65,
   "id": "408955ac",
   "metadata": {},
   "outputs": [
    {
     "data": {
      "text/plain": [
       "[183045.06686623133,\n",
       " 109762.11386719259,\n",
       " 76553.3282909146,\n",
       " 47377.45588328685,\n",
       " 39465.986554422845,\n",
       " 31496.801320798637,\n",
       " 26388.67647832004,\n",
       " 23205.71503466143]"
      ]
     },
     "execution_count": 65,
     "metadata": {},
     "output_type": "execute_result"
    }
   ],
   "source": [
    "wcss_list"
   ]
  },
  {
   "cell_type": "markdown",
   "id": "4d87e007",
   "metadata": {},
   "source": [
    "## 3. Training the K-means algorithm on the training set"
   ]
  },
  {
   "cell_type": "code",
   "execution_count": 66,
   "id": "541a28ba",
   "metadata": {},
   "outputs": [],
   "source": [
    "#training the K-means model on a dataset\n",
    "kmeans = KMeans(n_clusters=5, init='k-means++', random_state= 42)\n",
    "y_predict= kmeans.fit_predict(x)"
   ]
  },
  {
   "cell_type": "code",
   "execution_count": 67,
   "id": "ac47807f",
   "metadata": {},
   "outputs": [
    {
     "data": {
      "text/plain": [
       "array([2, 3, 2, 3, 2, 3, 2, 3, 2, 3, 2, 3, 2, 3, 2, 3, 2, 3, 2, 3, 2, 3,\n",
       "       2, 3, 2, 3, 2, 3, 2, 3, 2, 3, 2, 3, 2, 3, 2, 3, 2, 3, 2, 3, 2, 0,\n",
       "       2, 3, 0, 0, 0, 0, 0, 0, 0, 0, 0, 0, 0, 0, 0, 0, 0, 0, 0, 0, 0, 0,\n",
       "       0, 0, 0, 0, 0, 0, 0, 0, 0, 0, 0, 0, 0, 0, 0, 0, 0, 0, 0, 0, 0, 0,\n",
       "       0, 0, 0, 0, 0, 0, 0, 0, 0, 0, 0, 0, 0, 0, 0, 0, 0, 0, 0, 0, 0, 0,\n",
       "       0, 0, 0, 0, 0, 0, 0, 0, 0, 0, 0, 0, 0, 4, 1, 4, 0, 4, 1, 0, 1, 4,\n",
       "       1, 4, 1, 4, 1, 4, 1, 4, 1, 4, 0, 4, 1, 4, 0, 4, 1, 4, 1, 4, 1, 4,\n",
       "       1, 4, 1, 4, 1, 4, 1, 4, 1, 4, 1, 4, 1, 4, 1, 0, 1, 4, 1, 4, 1, 4,\n",
       "       1, 4, 1, 4, 1, 4, 1, 4, 1, 4, 1, 4, 1, 4, 1, 4, 1, 4, 1, 4, 1, 4,\n",
       "       1, 4])"
      ]
     },
     "execution_count": 67,
     "metadata": {},
     "output_type": "execute_result"
    }
   ],
   "source": [
    "y_predict"
   ]
  },
  {
   "cell_type": "markdown",
   "id": "b72892b1",
   "metadata": {},
   "source": [
    "## 4. Visualizing the Clusters"
   ]
  },
  {
   "cell_type": "code",
   "execution_count": 68,
   "id": "e8e3c12f",
   "metadata": {},
   "outputs": [
    {
     "data": {
      "image/png": "[encoded data removed]",
      "text/plain": [
       "<Figure size 640x480 with 1 Axes>"
      ]
     },
     "metadata": {},
     "output_type": "display_data"
    }
   ],
   "source": [
    "#visulaizing the clusters\n",
    "plt.scatter(x[y_predict == 0, 0], x[y_predict == 0, 1], s = 100, c = 'blue', label = 'Cluster 1')\n",
    "plt.scatter(x[y_predict == 1, 0], x[y_predict == 1, 1], s = 100, c = 'green', label = 'Cluster 2')\n",
    "plt.scatter(x[y_predict== 2, 0], x[y_predict == 2, 1], s = 100, c = 'red', label = 'Cluster 3')\n",
    "plt.scatter(x[y_predict == 3, 0], x[y_predict == 3, 1], s = 100, c = 'cyan', label = 'Cluster 4')\n",
    "plt.scatter(x[y_predict == 4, 0], x[y_predict == 4, 1], s = 100, c = 'magenta', label = 'Cluster 5')\n",
    "plt.scatter(kmeans.cluster_centers_[:, 0], kmeans.cluster_centers_[:, 1], s = 300, c = 'yellow', label = 'Centroids')\n",
    "plt.title('Clusters of customers')\n",
    "plt.xlabel('Annual Income (k$)')\n",
    "plt.ylabel('Spending Score (1-100)')\n",
    "plt.legend()\n",
    "plt.show()"
   ]
  },
  {
   "cell_type": "markdown",
   "id": "3cb32217",
   "metadata": {},
   "source": [
    "## Finish"
   ]
  }
 ],
 "metadata": {
  "kernelspec": {
   "display_name": "Python 3 (ipykernel)",
   "language": "python",
   "name": "python3"
  },
  "language_info": {
   "codemirror_mode": {
    "name": "ipython",
    "version": 3
   },
   "file_extension": ".py",
   "mimetype": "text/x-python",
   "name": "python",
   "nbconvert_exporter": "python",
   "pygments_lexer": "ipython3",
   "version": "3.9.13"
  }
 },
 "nbformat": 4,
 "nbformat_minor": 5
}
